{
  "cells": [
    {
      "cell_type": "markdown",
      "metadata": {
        "id": "view-in-github",
        "colab_type": "text"
      },
      "source": [
        "<a href=\"https://colab.research.google.com/github/pachterlab/FGP_2023/blob/main/noise.ipynb\" target=\"_parent\"><img src=\"https://colab.research.google.com/assets/colab-badge.svg\" alt=\"Open In Colab\"/></a>"
      ]
    },
    {
      "cell_type": "markdown",
      "source": [
        "\n",
        "# Noise Implementation\n",
        "In this notebook we show how we implement noise. The functions are also included in noise.py for import into other notebooks."
      ],
      "metadata": {
        "id": "62e3h05xjTaq"
      },
      "id": "62e3h05xjTaq"
    },
    {
      "cell_type": "code",
      "source": [
        "from google.colab import drive\n",
        "drive.mount('/content/drive')\n",
        "\n",
        "import sys\n",
        "sys.path.append('/content/drive/MyDrive/Colab Notebooks')\n",
        "\n",
        "from FGP_2023.simulation import analytic_ss, create_samples\n",
        "from FGP_2023.construct_H import create_binaries, basis_sort\n",
        "\n",
        "import matplotlib.pyplot as plt\n",
        "from collections import Counter\n",
        "import numpy as np"
      ],
      "metadata": {
        "colab": {
          "base_uri": "https://localhost:8080/"
        },
        "id": "QMSEVP31gjJD",
        "outputId": "cedd6dd9-c8df-4ff3-b3f3-571138021845"
      },
      "id": "QMSEVP31gjJD",
      "execution_count": 2,
      "outputs": [
        {
          "output_type": "stream",
          "name": "stdout",
          "text": [
            "Mounted at /content/drive\n",
            "Package FGP_2023 is being imported!\n"
          ]
        }
      ]
    },
    {
      "cell_type": "markdown",
      "source": [
        "## Functions for applying random drop-out to simulated data."
      ],
      "metadata": {
        "id": "KUJqo8Gr2DZk"
      },
      "id": "KUJqo8Gr2DZk"
    },
    {
      "cell_type": "code",
      "source": [
        "def get_combos(n):\n",
        "    '''\n",
        "    Create list of possible site configurations for an n-site locus.\n",
        "\n",
        "    Args:\n",
        "        n (int): number of sites in locus\n",
        "\n",
        "    Output:\n",
        "        list of site-openness configurations, e.g. [[0,0], [1,0], [0,1], [1,1]] for a six-site locus\n",
        "        N.B. these configurations are ordered in the basis of the transition matrix in construct_H.py.\n",
        "    '''\n",
        "\n",
        "    combos = basis_sort(create_binaries(n))\n",
        "\n",
        "    return combos\n",
        "\n",
        "def apply_dropout(site_configs, pdrop):\n",
        "    '''\n",
        "    Apply random binomial dropout to a sample of site configurations.\n",
        "\n",
        "    Args:\n",
        "        site_configs (list of list of ints): list of site configurations --\n",
        "            each site configuration is a list of site-openness values at each site in locus\n",
        "            e.g. [[1,0,1], [0,0,0]] for two samples at a three-site locus\n",
        "        pdrop (float): probability of dropout at each site\n",
        "\n",
        "    Output:\n",
        "        new site configurations after random dropout, e.g. [[0,0,1], [0,0,0]]\n",
        "    '''\n",
        "    new_configs = []\n",
        "    for site_config in site_configs:\n",
        "      new_state = site_config.copy()\n",
        "      for j in range(len(site_config)):\n",
        "          kept = np.random.binomial(1, 1-pdrop)\n",
        "          if not kept:\n",
        "            new_state[j] = 0\n",
        "      new_configs += [new_state]\n",
        "\n",
        "    return new_configs\n",
        "\n",
        "def list_configs(simulated_cells, n):\n",
        "    '''\n",
        "    Generate list of locus configurations from the output of simulation.py, using final time slice.\n",
        "\n",
        "    Args:\n",
        "      simulated_cells (array): chromatin-state and RNA information for cells over time\n",
        "          Each cell is of the form [[2^n-length chromatin vector], [n-length transcript vector]]\n",
        "      n (int): number of sites in locus\n",
        "\n",
        "    Output:\n",
        "      list of site configurations for each cell at the final time point of the simulation\n",
        "      e.g. [[1,0], [1,0], [0,0]] for 3 cells in a two-site system\n",
        "    '''\n",
        "    final_chromatin_state_vectors = simulated_cells[:,-1,:-n]\n",
        "    combos = get_combos(n)\n",
        "\n",
        "    # Convert from chromatin state vectors to state indices. e.g. [0,0,1,0] -> 2\n",
        "    state_indices = [list(cell).index(1) for cell in final_chromatin_state_vectors]\n",
        "\n",
        "    # Convert to lists of site openness.\n",
        "    site_configs = [combos[i] for i in state_indices]\n",
        "\n",
        "    return site_configs\n",
        "\n",
        "\n",
        "def dist_from_samples(site_configs):\n",
        "    '''\n",
        "    Return probability distribution given list of site configurations.\n",
        "\n",
        "    Args:\n",
        "        site_configs (list of lists of ints): configuration of sites for each cell\n",
        "            e.g. [[1,1,1], [0,0,1]] for a two-cell sample of three-site loci\n",
        "\n",
        "    Output:\n",
        "        probability distribution of form {(config): prob}\n",
        "            e.g. {(0,0): 0.5, (0,1): 0.2, (1,0): 0.2, (1,1):0.1} for a two-site locus\n",
        "    '''\n",
        "\n",
        "    n = len(site_configs[0])\n",
        "    config_tuples = [tuple(config) for config in site_configs]\n",
        "    counter = Counter(config_tuples)\n",
        "    total_cells = sum(counter.values())\n",
        "\n",
        "    # Normalize distribution and order configurations according to chromatin-state basis.\n",
        "    config_distribution = {}\n",
        "    combos = get_combos(n)\n",
        "    for combo in combos:\n",
        "      config_distribution[tuple(combo)] = counter[tuple(combo)]/total_cells\n",
        "\n",
        "    return config_distribution"
      ],
      "metadata": {
        "id": "lTXH8K4fjEKC"
      },
      "id": "lTXH8K4fjEKC",
      "execution_count": 3,
      "outputs": []
    },
    {
      "cell_type": "markdown",
      "source": [
        "## Simulate data and plot distributions before and after adding dropout"
      ],
      "metadata": {
        "id": "NuTNr0H-Qahu"
      },
      "id": "NuTNr0H-Qahu"
    },
    {
      "cell_type": "code",
      "source": [
        "## Simulate cells.\n",
        "k_ons, k_off, epsilon, nCells = [1, 1,1], 3, 0.5, 10000\n",
        "n = len(k_ons)\n",
        "\n",
        "# ATAC only simulation.\n",
        "bs = [0]*n\n",
        "ds = [0]*n\n",
        "\n",
        "simulation_time =  5/min(k_ons)\n",
        "\n",
        "simulated_cells = create_samples(k_ons, k_off, bs, ds, epsilon, nCells, simulation_time)[1]\n",
        "\n",
        "# Convert to list of site configurations.\n",
        "site_configs = list_configs(simulated_cells, n)\n",
        "\n",
        "# Apply dropout to these loci, using two different values of pdrop.\n",
        "pdrop_1, pdrop_2 = 0.1, 0.5\n",
        "dropped_site_configs_1,  dropped_site_configs_2 = apply_dropout(site_configs, pdrop_1),  apply_dropout(site_configs, pdrop_2)\n",
        "\n",
        "# Get distributions from these list of site configurations.\n",
        "simulated_distribution = dist_from_samples(site_configs)\n",
        "simulated_dropped_dist_1, simulated_dropped_dist_2 = dist_from_samples(dropped_site_configs_1), dist_from_samples(dropped_site_configs_2)\n",
        "\n",
        "# Plot simulated distribution and drop-out distribution.\n",
        "dict1, dict2, dict3 = simulated_distribution, simulated_dropped_dist_1, simulated_dropped_dist_2\n",
        "keys, values_dict1, values_dict2, values_dict3 = list(dict1.keys()), list(dict1.values()), list(dict2.values()),  list(dict3.values())\n",
        "\n",
        "bar_width = 0.25  # Width of each bar\n",
        "x_indexes = range(len(keys))  # X-axis indexes for the bars\n",
        "\n",
        "# Plotting the bars\n",
        "plt.bar(x_indexes, values_dict1, width=bar_width, label='Before Dropout')\n",
        "plt.bar([i + bar_width for i in x_indexes], values_dict2, width=bar_width, label='Dropout: pdrop=' + str(pdrop_1))\n",
        "plt.bar([i + 2 * bar_width for i in x_indexes], values_dict3, width=bar_width, label='Dropout: pdrop=' + str(pdrop_2))\n",
        "\n",
        "plt.xlabel('Site Configurations')\n",
        "plt.ylabel('Probabilities')\n",
        "plt.title('Simulated Probability Distribution Before and After Dropout')\n",
        "plt.xticks([i + bar_width for i in x_indexes], keys)  # Setting x-axis labels\n",
        "plt.legend()\n",
        "plt.tight_layout()\n",
        "plt.show()"
      ],
      "metadata": {
        "colab": {
          "base_uri": "https://localhost:8080/"
        },
        "id": "ARxfojWD0B3Q",
        "outputId": "55558ff3-2d8d-482a-af92-fc5f389b0ede"
      },
      "id": "ARxfojWD0B3Q",
      "execution_count": null,
      "outputs": [
        {
          "output_type": "stream",
          "name": "stderr",
          "text": [
            " 49%|████▉     | 4883/10000 [00:22<00:31, 163.15it/s]"
          ]
        }
      ]
    },
    {
      "cell_type": "markdown",
      "source": [
        "## Functions for deterministically updating a probability distribution with the effect of technical noise."
      ],
      "metadata": {
        "id": "vPrPtzxV2UMB"
      },
      "id": "vPrPtzxV2UMB"
    },
    {
      "cell_type": "code",
      "source": [
        "def prob_change(string, drop):\n",
        "    '''\n",
        "    Calculates the probability flow from a given configuration to new configurations under drop-out.\n",
        "\n",
        "    Args:\n",
        "        string (tuple): The original configuration in the +1/-1 convention.\n",
        "        drop (float): The drop-out probabilty for an individual site to flip from +1 to -1.\n",
        "\n",
        "    Returns:\n",
        "        dictionary: A dictionary whose keys are the possible resulting configurations after drop-out,\n",
        "            and whose values are the probability of arriving at the new configuration from the old (and\n",
        "            the negative of the probability of leaving the original configuration for the original configuration)\n",
        "    '''\n",
        "\n",
        "    # Identify how many 'on' sites in this configuration.\n",
        "    on_indices = [i for i in range(len(string)) if string[i]==1]\n",
        "\n",
        "    # Generate all possible drop-out scenarios. (e.g. all 'on' sites --> 'off', the second 'on' site only --> 'off', etc.)\n",
        "    n = len(on_indices)\n",
        "    flipped = []\n",
        "    for i in range(2**n, 2**(n+1)):\n",
        "        bin_string = bin(i)[3:]\n",
        "        flipped += [[int(i) for i in bin_string]]\n",
        "\n",
        "    # Calculate the probability of each drop-out scenario, and the new configuration which results.\n",
        "    flipped_patterns = {}\n",
        "    for f in flipped:\n",
        "        prob = drop**sum(f)*(1-drop)**(n-sum(f))\n",
        "        new_string = string.copy()\n",
        "        for i in range(n):\n",
        "            if f[i]:\n",
        "                new_string[on_indices[i]] = 0\n",
        "\n",
        "        # For the no drop-out scenario, report the negative of the probability of leaving the original configuration.\n",
        "        if new_string==string:\n",
        "            flipped_patterns[tuple(new_string)] = -(1 - prob)\n",
        "        else:\n",
        "            flipped_patterns[tuple(new_string)] = prob\n",
        "\n",
        "    return flipped_patterns\n",
        "\n",
        "\n",
        "def dist_drop(distribution, args, kwargs, drop):\n",
        "    '''\n",
        "    Modifies an analytic probabilty distribution with the effect of drop-out.\n",
        "\n",
        "    Args:\n",
        "        distribution (function): a function which takes args and kwargs and returns a probability distribution\n",
        "            in the form of a dictionary, with configuration tuples as keys and probabilites as values.\n",
        "        args (list): the arguments for the analytic distribution.\n",
        "        kwargs (dictionary): the key-word arguments for the analytic distribution.\n",
        "        drop: the drop-out probability.\n",
        "    '''\n",
        "\n",
        "    # Start with an analytic distribution.\n",
        "    current_prob = distribution(*args, **kwargs)\n",
        "    new_prob = current_prob.copy()\n",
        "\n",
        "    # For each configuration, calculate the probability flow.\n",
        "    for tpl in current_prob.keys():\n",
        "        string = list(tpl)\n",
        "        flow = prob_change(string, drop)\n",
        "\n",
        "        # Add the flow from the current string to the new string.\n",
        "        for new_string, change in flow.items():\n",
        "            new_prob[tuple(new_string)] += change*current_prob[tpl]\n",
        "\n",
        "            if new_prob[tuple(new_string)] < 0:\n",
        "                print('neg prob:', new_prob, )\n",
        "\n",
        "    return new_prob"
      ],
      "metadata": {
        "id": "P3DDEBBx5ZcX"
      },
      "id": "P3DDEBBx5ZcX",
      "execution_count": null,
      "outputs": []
    },
    {
      "cell_type": "markdown",
      "source": [
        "### Functions for applying technical noise implementation to an Ising distribution."
      ],
      "metadata": {
        "id": "VBBjLZuc_EAd"
      },
      "id": "VBBjLZuc_EAd"
    },
    {
      "cell_type": "code",
      "source": [
        "def Ising_analytic_ss(k_ons, k_off, epsilon):\n",
        "    '''\n",
        "    Create probability distribution for site configurations in the Ising model.\n",
        "\n",
        "    Args:\n",
        "        Ising model params as used in simulation.py\n",
        "\n",
        "    Output:\n",
        "        Probability distribution in form {site_config: probability}\n",
        "    '''\n",
        "\n",
        "    n = len(k_ons)\n",
        "\n",
        "    steady_state = analytic_ss(k_ons, k_off, epsilon)\n",
        "\n",
        "    combos = get_combos(n)\n",
        "\n",
        "    Ising_prob = {}\n",
        "\n",
        "    for i in range(len(combos)):\n",
        "\n",
        "        Ising_prob[tuple(combos[i])] = steady_state[i]\n",
        "\n",
        "    return Ising_prob\n",
        "\n",
        "def Ising_analytic_drop(k_ons, k_off, epsilon, pdrop):\n",
        "    '''\n",
        "    Calculate the probability distribution for the Ising-like chromatin model after technical dropout.\n",
        "\n",
        "    Args:\n",
        "        transition matrix parameters as in simulation.py\n",
        "        pdrop: probability of dropout at each site.\n",
        "\n",
        "    Output:\n",
        "        probability distribution under dropout in form: {site_config: probability}\n",
        "    '''\n",
        "\n",
        "    new_dist = dist_drop(Ising_analytic_ss, [k_ons, k_off, epsilon], {}, pdrop)\n",
        "\n",
        "    return new_dist"
      ],
      "metadata": {
        "id": "cU3sl2mk_Cpa"
      },
      "id": "cU3sl2mk_Cpa",
      "execution_count": null,
      "outputs": []
    },
    {
      "cell_type": "markdown",
      "source": [
        "### Create analytic probability distribution under dropout and check that the mean at each site under this distribution is the same as the mean of the sites under the analytical distribution without dropout multiplied by the probability of no dropout. (This is a sanity check)."
      ],
      "metadata": {
        "id": "npoFCUPx6otY"
      },
      "id": "npoFCUPx6otY"
    },
    {
      "cell_type": "code",
      "source": [
        "def get_means(distribution):\n",
        "    '''\n",
        "    Calculate mean openness for each site from a probability distribution of site configurations.\n",
        "\n",
        "    Args:\n",
        "        distribution: probabiltiy distribution of form {site_config: probability}\n",
        "\n",
        "    Output:\n",
        "        expected mean at each site.\n",
        "    '''\n",
        "    combos = [i for i in distribution.keys()]\n",
        "    n = len(list(combos[0]))\n",
        "\n",
        "    means = []\n",
        "    for i in range(n):\n",
        "        mean = sum([combo[i]*key for combo, key in distribution.items()])\n",
        "        means += [mean]\n",
        "\n",
        "    return means\n",
        "\n",
        "## Check that dropped analytic solution has the expected means.\n",
        "\n",
        "# Obtain analytic distribution from applying our noise implementation.\n",
        "analytic_dropped = Ising_analytic_drop(k_ons, k_off, epsilon, pdrop)\n",
        "dropped_means = get_means(analytic_dropped)\n",
        "\n",
        "# Calculate the site-means for the distribution without dropout and multiply by (1-pdrop).\n",
        "analytic_original = Ising_analytic_ss(k_ons, k_off, epsilon)\n",
        "expected_means = [(1-pdrop)*mean for mean in get_means(analytic_original)]\n",
        "\n",
        "plt.title('Site Means: Calculated vs Expected')\n",
        "# plt.xscale('log')\n",
        "# plt.yscale('log')\n",
        "\n",
        "plt.scatter(expected_means, dropped_means)\n",
        "plt.plot(expected_means, expected_means, linestyle=':')\n",
        "plt.show()"
      ],
      "metadata": {
        "id": "jRgIzPsU-qzr"
      },
      "id": "jRgIzPsU-qzr",
      "execution_count": null,
      "outputs": []
    },
    {
      "cell_type": "markdown",
      "source": [
        "### Compare the distributions from random dropout on simulated data with the distribution calculated analytically via our deterministic noise implementation."
      ],
      "metadata": {
        "id": "YJOhvYVc76WA"
      },
      "id": "YJOhvYVc76WA"
    },
    {
      "cell_type": "code",
      "source": [
        "## Check that entire distribution matches between simulation and our noise implementation.\n",
        "keys = [i for i in simulated_dropped_dist.keys()]\n",
        "x = [simulated_dropped_dist[i] for i in keys]\n",
        "y = [analytic_dropped[i] for i in keys]\n",
        "\n",
        "plt.scatter(x,y)\n",
        "plt.plot(x,x)\n",
        "# plt.xscale('log')\n",
        "# plt.yscale('log')\n",
        "plt.title('Calculated vs Simulated Probabilities for each gene-state')\n",
        "plt.show()\n",
        "\n",
        "## Plot distribution residuals.\n",
        "residuals = [(i-j)/(i+j) for i, j in zip(x,y)]\n",
        "plt.scatter([i for i in range(len(x))], residuals)\n",
        "plt.title('Residuals')\n",
        "plt.show()"
      ],
      "metadata": {
        "id": "H2lsyBYl741p"
      },
      "id": "H2lsyBYl741p",
      "execution_count": null,
      "outputs": []
    },
    {
      "cell_type": "markdown",
      "source": [
        "## Plot analytic distributions before and after dropout."
      ],
      "metadata": {
        "id": "OeXT5xV-8b5X"
      },
      "id": "OeXT5xV-8b5X"
    },
    {
      "cell_type": "code",
      "source": [
        "# Specify Ising model parameters: k_ons, k_off, epsilon.\n",
        "ising_params = [([1, 1,1], 1, 1), ([1, 1,1], 1.5, 1), ([1, 1,1], 1.5, 0.5)]\n",
        "pdrops = [0, 0.1, 0.5]\n",
        "\n",
        "# Bar width adjustment for closer bars\n",
        "bar_width = 0.9  # Adjust as needed\n",
        "\n",
        "# Font size for axes labels and tick labels\n",
        "font_size = 14  # Adjust as needed\n",
        "\n",
        "fig, axs = plt.subplots(3, 3, figsize=(12, 12), sharex='col', sharey=False)  # 3x3 grid for 9 subplots\n",
        "\n",
        "column_labels = ['Before Dropout', 'After Dropout: pdrop=0.1', 'After Dropout: pdrop=0.5']\n",
        "row_labels = ['Uniform', 'Independent', 'Correlated']\n",
        "\n",
        "# External labels for columns\n",
        "for ax, col_label in zip(axs[0], column_labels):\n",
        "    ax.annotate(col_label, xy=(0.5, 1), xytext=(0, 10), xycoords='axes fraction',\n",
        "                textcoords='offset points', ha='center', va='bottom', fontsize=font_size)\n",
        "\n",
        "# Generate different colors for each row with increasing transparency\n",
        "base_colors = ['Blues', 'Greens', 'Reds']  # Base colors for each row\n",
        "\n",
        "for i in range(9):\n",
        "\n",
        "    row = i // 3\n",
        "    col = i % 3\n",
        "\n",
        "    distribution = Ising_analytic_drop(*ising_params[row], pdrops[col])\n",
        "    keys = list(distribution.keys())  # Get keys for the current dictionary\n",
        "    values = list(distribution.values())  # Get values for the current dictionary\n",
        "    x_indexes = range(len(keys))\n",
        "\n",
        "    color = plt.cm.get_cmap(base_colors[row])(1 - col / 4)  # Adjusting lightness\n",
        "    alpha = 1\n",
        "\n",
        "    axs[row, col].bar(x_indexes, values, width=bar_width, color=color, alpha=alpha)\n",
        "    axs[row, col].set_xticks([i for i in x_indexes])\n",
        "    axs[row, col].set_xticklabels(keys, fontsize=font_size, rotation='vertical')\n",
        "    axs[row, col].tick_params(axis='both', which='both', labelsize=font_size)  # Show tick labels\n",
        "\n",
        "fig.text(0.5, -0.02, 'Configurations', ha='center', fontsize=font_size)\n",
        "\n",
        "axs[0,0].set_ylabel('Distribution: Uniform', fontsize=font_size)\n",
        "axs[1,0].set_ylabel('Distribution: Independent Sites', fontsize=font_size)\n",
        "axs[2,0].set_ylabel('Distribution: Correlated Sites', fontsize=font_size)\n",
        "\n",
        "# Adjust layout\n",
        "plt.tight_layout()\n",
        "plt.show()"
      ],
      "metadata": {
        "id": "p6w1fBoE9f-X"
      },
      "id": "p6w1fBoE9f-X",
      "execution_count": null,
      "outputs": []
    },
    {
      "cell_type": "code",
      "source": [],
      "metadata": {
        "id": "s5xEWAn8NYJG"
      },
      "id": "s5xEWAn8NYJG",
      "execution_count": null,
      "outputs": []
    }
  ],
  "metadata": {
    "kernelspec": {
      "display_name": "Python 3 (ipykernel)",
      "language": "python",
      "name": "python3"
    },
    "language_info": {
      "codemirror_mode": {
        "name": "ipython",
        "version": 3
      },
      "file_extension": ".py",
      "mimetype": "text/x-python",
      "name": "python",
      "nbconvert_exporter": "python",
      "pygments_lexer": "ipython3",
      "version": "3.10.8"
    },
    "colab": {
      "provenance": [],
      "include_colab_link": true
    }
  },
  "nbformat": 4,
  "nbformat_minor": 5
}